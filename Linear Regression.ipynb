{
 "cells": [
  {
   "cell_type": "markdown",
   "metadata": {},
   "source": [
    "# Ví dụ về hồi quy tuyến tính\n",
    "\n",
    "Trong bài này, chúng ta sẽ sẽ thử nghiệm việc cài đặt mô hình `hồi quy tuyến tính` thông qua ví dụ `đoán giá nhà` đã nêu trong video:\n",
    "- Tạo tập hợp các cặp (diện tích nhà, giá nhà)\n",
    "- Dữ liệu trên là dữ liệu đã biết, ta dùng để  huấn luyện ra mô hình hồi quy tuyến tính xấp xỉ tốt nhất với chúng\n",
    "- Sử dụng mô hình để đoán được giá của một căn nhà có diện tích cho trước"
   ]
  },
  {
   "cell_type": "markdown",
   "metadata": {},
   "source": [
    "### Đầu tiên ta khai báo các thư viện sẽ sử dụng"
   ]
  },
  {
   "cell_type": "code",
   "execution_count": 1,
   "metadata": {},
   "outputs": [],
   "source": [
    "import matplotlib.pyplot as plt #pyplot giúp mô tả dữ liệu thông qua các biểu đồ trực quan\n",
    "import numpy as np #numpy là thư viện giúp thao tác linh hoạt hơn trên dữ liệu\n",
    "from sklearn import linear_model #sklearn là thư viện có sẵn các mô hình học máy thông dụng"
   ]
  },
  {
   "cell_type": "markdown",
   "metadata": {},
   "source": [
    "### Tạo các cặp giá trị (diện tích nhà, giá nhà) và thể hiện lên biểu đồ"
   ]
  },
  {
   "cell_type": "code",
   "execution_count": 2,
   "metadata": {},
   "outputs": [
    {
     "data": {
      "text/plain": [
       "<matplotlib.collections.PathCollection at 0x7f1049dea080>"
      ]
     },
     "execution_count": 2,
     "metadata": {},
     "output_type": "execute_result"
    },
    {
     "data": {
      "image/png": "[encoded data removed]",
      "text/plain": [
       "<Figure size 432x288 with 1 Axes>"
      ]
     },
     "metadata": {
      "needs_background": "light"
     },
     "output_type": "display_data"
    }
   ],
   "source": [
    "data=np.array([[15,1504],[17,1608],[75,7394],[10,831],[50,5507],\n",
    "               [35,3011],[90,8612],[80,9036],[5,614],[65,5832]])\n",
    "area=data[:,0]\n",
    "price=data[:,1]\n",
    "plt.xlabel(\"Diện tích (m2)\")\n",
    "plt.ylabel(\"Giá nhà (Triệu đồng)\")\n",
    "plt.scatter(area, price,  color='red')\n"
   ]
  },
  {
   "cell_type": "markdown",
   "metadata": {},
   "source": [
    "### Tạo hàm xấp xỉ dữ liệu đã biết với phương pháp hồi quy tuyến tính"
   ]
  },
  {
   "cell_type": "markdown",
   "metadata": {},
   "source": [
    "Nhìn trên biểu đồ, ta có thể hình dung ra một đường thẳng tạo nên bởi các chấm tròn. Đường thẳng xấp xỉ tốt nhất với dữ liệu đã cho chính là  đường thẳng biểu diễn bởi hàm `y=F(x)=ax+b` với `a` và `b` là các tham số có được nhờ phương pháp hồi quy tuyến tính. Thật may, với `sklearn`, chúng ta có thể làm được điều đó chỉ với một vài dòng code. "
   ]
  },
  {
   "cell_type": "markdown",
   "metadata": {},
   "source": [
    "Đầu tiên, ta khai báo một mô hình `Hồi quy tuyến tính` từ `sklearn`"
   ]
  },
  {
   "cell_type": "code",
   "execution_count": 3,
   "metadata": {},
   "outputs": [],
   "source": [
    "regr = linear_model.LinearRegression() "
   ]
  },
  {
   "cell_type": "markdown",
   "metadata": {},
   "source": [
    "Tiếp theo, ta cung cấp dữ liệu đã biết để huấn luyện mô hình bằng phương thức `fit()` . Trong trường hợp này, huấn luyện mô hình bản chất là dựa vào dữ liệu để tính các tham số `a` và `b` của hàm `F(x)=ax+b`. "
   ]
  },
  {
   "cell_type": "markdown",
   "metadata": {},
   "source": [
    "Để sử dụng được phương thức `fit`, chúng ta cần biến đổi `area` thành mảng hai chiều. 2D là viết tắt của 2 dimensions (2 chiều)"
   ]
  },
  {
   "cell_type": "code",
   "execution_count": 4,
   "metadata": {},
   "outputs": [
    {
     "data": {
      "text/plain": [
       "LinearRegression(copy_X=True, fit_intercept=True, n_jobs=None,\n",
       "         normalize=False)"
      ]
     },
     "execution_count": 4,
     "metadata": {},
     "output_type": "execute_result"
    }
   ],
   "source": [
    "area_2D=area[:,np.newaxis]\n",
    "regr.fit(area_2D, price)"
   ]
  },
  {
   "cell_type": "markdown",
   "metadata": {},
   "source": [
    "Vậy là chúng ta đã có hàm tuyến tính xấp xỉ tốt nhất với dữ liệu đã cho. Giờ ta sẽ biểu diễn hàm này lên biểu đồ:"
   ]
  },
  {
   "cell_type": "code",
   "execution_count": 5,
   "metadata": {},
   "outputs": [
    {
     "data": {
      "text/plain": [
       "[<matplotlib.lines.Line2D at 0x7f1049dbd128>]"
      ]
     },
     "execution_count": 5,
     "metadata": {},
     "output_type": "execute_result"
    },
    {
     "data": {
      "image/png": "[encoded data removed]",
      "text/plain": [
       "<Figure size 432x288 with 1 Axes>"
      ]
     },
     "metadata": {
      "needs_background": "light"
     },
     "output_type": "display_data"
    }
   ],
   "source": [
    "plt.xlabel(\"Diện tích (m2)\")\n",
    "plt.ylabel(\"Giá nhà (Triệu đồng)\")\n",
    "plt.scatter(area, price,  color='red')\n",
    "\n",
    "plt.plot(area, regr.predict(area_2D),  color='blue')"
   ]
  },
  {
   "cell_type": "markdown",
   "metadata": {},
   "source": [
    "### Sử dụng mô hình để đoán được giá của một căn nhà có diện tích cho trước"
   ]
  },
  {
   "cell_type": "markdown",
   "metadata": {},
   "source": [
    "Tiếp theo, với hàm tuyến tính đã có, ta sẽ tiến hành dự đoán giá nhà của 3 căn nhà có diện tích:\n",
    "- 19.2 mét vuông\n",
    "- 102.5 mét vuông\n",
    "- 56.9 mét vuông"
   ]
  },
  {
   "cell_type": "code",
   "execution_count": 6,
   "metadata": {},
   "outputs": [
    {
     "name": "stdout",
     "output_type": "stream",
     "text": [
      "Căn nhà có diện tích 19.2 có giá khoảng 1858.68 triệu đồng\n",
      "Căn nhà có diện tích 102.5 có giá khoảng 10309.36 triệu đồng\n",
      "Căn nhà có diện tích 56.9 có giá khoảng 5683.30 triệu đồng\n"
     ]
    }
   ],
   "source": [
    "need_prediction=[19.2,102.5,56.9]\n",
    "for element in need_prediction:\n",
    "    print(f\"Căn nhà có diện tích {element:.1f} có giá khoảng {regr.predict([[element]])[0]:.2f} triệu đồng\")"
   ]
  }
 ],
 "metadata": {
  "kernelspec": {
   "display_name": "Python 3",
   "language": "python",
   "name": "python3"
  },
  "language_info": {
   "codemirror_mode": {
    "name": "ipython",
    "version": 3
   },
   "file_extension": ".py",
   "mimetype": "text/x-python",
   "name": "python",
   "nbconvert_exporter": "python",
   "pygments_lexer": "ipython3",
   "version": "3.6.8"
  }
 },
 "nbformat": 4,
 "nbformat_minor": 1
}
